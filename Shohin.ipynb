{
  "nbformat": 4,
  "nbformat_minor": 0,
  "metadata": {
    "colab": {
      "provenance": []
    },
    "kernelspec": {
      "name": "python3",
      "display_name": "Python 3"
    },
    "language_info": {
      "name": "python"
    }
  },
  "cells": [
    {
      "cell_type": "code",
      "execution_count": 1,
      "metadata": {
        "colab": {
          "base_uri": "https://localhost:8080/",
          "height": 110
        },
        "id": "3coVsX5x0R5Q",
        "outputId": "e6b8acb5-2980-4f32-bfed-0e2622e60c45"
      },
      "outputs": [
        {
          "output_type": "error",
          "ename": "SyntaxError",
          "evalue": "incomplete input (<ipython-input-1-e323b6eb403f>, line 15)",
          "traceback": [
            "\u001b[0;36m  File \u001b[0;32m\"<ipython-input-1-e323b6eb403f>\"\u001b[0;36m, line \u001b[0;32m15\u001b[0m\n\u001b[0;31m    \u001b[0m\n\u001b[0m    ^\u001b[0m\n\u001b[0;31mSyntaxError\u001b[0m\u001b[0;31m:\u001b[0m incomplete input\n"
          ]
        }
      ],
      "source": [
        "import pandas as pd\n",
        "import numpy as np\n",
        "from flask import Flask_request_jsonify\n",
        "import os\n",
        "import uuid\n",
        "\n",
        "app = Flask(__name__)\n",
        "\n",
        "JOB_RESULTS = {}\n",
        "\n",
        "def process_csv(self,filepath):\n",
        "  try:\n",
        "    df = pd.read_csv(\"/content/sample_Backend (PY) dataset.csv\")\n",
        "    processed_data = df.described().to_dict()\n",
        "\n",
        "    JOB_RESULTS[self.request.id] = {'status':'completed','data':processed_data}\n",
        "  except Exception as e :\n",
        "    JOB_RESULTS[self.request.id] = {'status':'failed', 'error': str(e)}\n",
        "  finally:\n",
        "    os.remove(\"/content/sample_Backend (PY) dataset.csv\")\n",
        "\n",
        "\n",
        "@app.route('/upload', methods = [POST])\n",
        "def upload_file{}:\n",
        "  if 'file' not in request_files:\n",
        "    return jsonify({'error':'No file provided'}),400\n",
        "\n",
        "   file = request_files['file']\n",
        "   if file.filename ==\"\" :\n",
        "    return jsonify({'error':'No selected file'}),400\n",
        "\n",
        "    file_path = \"uploads/{uuid.uuid4()}csv\"\n",
        "    os.makedirs('uploads', exist_ok=True)\n",
        "    file_save = (file_path)\n",
        "\n",
        "    task = process_csv.apply_async(args = [file_path])\n",
        "    return jsonify({'job_id': task id, 'status':'processing'}),202\n",
        "\n",
        "@app.route('/status/<job_id>', methods=['GET'])\n",
        "def check_staus(job)\n",
        "\n",
        "\n",
        "\n",
        "\n"
      ]
    },
    {
      "cell_type": "code",
      "source": [
        "data"
      ],
      "metadata": {
        "id": "cbAQR_153DFZ"
      },
      "execution_count": null,
      "outputs": []
    }
  ]
}